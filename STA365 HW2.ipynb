{
 "cells": [
  {
   "cell_type": "code",
   "execution_count": null,
   "id": "e1997e45",
   "metadata": {},
   "outputs": [],
   "source": [
    "# a \n",
    "# b\n",
    "\n",
    "import numpy as np; from scipy import stats; import matplotlib.pyplot as plt\n",
    "n = 3; x = stats.norm(loc=0,scale=1).rvs(n); theta_0,tau = 4,1/2; parameter_domain = np.linspace(-10,10,1001); \n",
    "#likelihood = stats.norm.logpdf((x[:,np.newaxis])*np.ones(parameter_domain.shape), \n",
    "#                               loc=parameter_domain, scale=1).prod(axis=0) # sigma=1 known\n",
    "prior = stats.norm.logpdf(parameter_domain,loc=theta_0, scale=1/tau**0.5)\n",
    "\n",
    "joint = likelihood*prior\n",
    "posterior = stats.norm.logpdf(parameter_domain,loc=(tau*theta_0+x.sum())/(tau+n), scale=1/(tau+n)**0.5)\n",
    "\n",
    "n,s = 0,0\n",
    "\n",
    "for xi in x:\n",
    "    likelihood = stats.norm.logpdf(parameter_domain, 1, 1)\n",
    "    joint = prior * likelihood\n",
    "    updated_posterior = likelihood*prior/joint.sum()\n",
    "\n",
    "    prior = updated_posterior\n",
    "    \n",
    "    if n% 1 == 0:\n",
    "        plt.figure(figsize=(16,5)); \n",
    "        plt.plot(parameter_domain, likelihood, label=\"loglikelihood\"); \n",
    "        plt.plot(parameter_domain, prior, label=\"prior\"); \n",
    "        plt.plot(parameter_domain, posterior, label=\"posterior\"); \n",
    "        plt.plot(parameter_domain, joint, linestyle=\"--\", label=\"joint\"); \n",
    "        plt.legend(); plt.title(\"Visualize various priors, likelihoods, posteriors and joint distribution)\"); \n",
    "    n += 1; s += 1;"
   ]
  },
  {
   "cell_type": "markdown",
   "id": "00e2d361",
   "metadata": {},
   "source": [
    "# c\n",
    "$$\n",
    "\\begin{align*}\n",
    "posterior &\\propto{} likelihood * prior , \n",
    "prior = 1\n",
    "\\end{align*}$$\n",
    "\n",
    "$$\n",
    "Therefore, \n",
    "\\begin{align*}\n",
    "posterior &\\propto{} likelihood \n",
    "\\end{align*}$$"
   ]
  },
  {
   "cell_type": "markdown",
   "id": "9f2aac1c",
   "metadata": {},
   "source": [
    "# d\n",
    "Log likelihoods: Prior does not affect the likelihood, but we still can use it to estimate the posterior\n",
    "Marginal likelihood: After posterior intergal, the result is contant 1"
   ]
  }
 ],
 "metadata": {
  "kernelspec": {
   "display_name": "Python 3 (ipykernel)",
   "language": "python",
   "name": "python3"
  },
  "language_info": {
   "codemirror_mode": {
    "name": "ipython",
    "version": 3
   },
   "file_extension": ".py",
   "mimetype": "text/x-python",
   "name": "python",
   "nbconvert_exporter": "python",
   "pygments_lexer": "ipython3",
   "version": "3.11.6"
  }
 },
 "nbformat": 4,
 "nbformat_minor": 5
}
